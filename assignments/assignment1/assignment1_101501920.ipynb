{
 "cells": [
  {
   "cell_type": "code",
   "execution_count": null,
   "metadata": {},
   "outputs": [
    {
     "ename": "",
     "evalue": "",
     "output_type": "error",
     "traceback": [
      "\u001b[1;31mRunning cells with 'Python 3.13.1' requires the ipykernel package.\n",
      "\u001b[1;31mRun the following command to install 'ipykernel' into the Python environment. \n",
      "\u001b[1;31mCommand: 'c:/Users/parvm/AppData/Local/Programs/Python/Python313/python.exe -m pip install ipykernel -U --user --force-reinstall'"
     ]
    }
   ],
   "source": [
    "\"\"\"\n",
    "Author: Parvkumar Mehta\n",
    "Assignment: #1\n",
    "\"\"\"\n",
    "\n",
    "#Variable Declarations\n",
    "# Variable 1: gym_member (Data Type: str)\n",
    "gym_member = \"Alex Alliton\"\n",
    "\n",
    "# Variable 2: preferred_weight_kg (Data Type: float)\n",
    "preferred_weight_kg = 20.5\n",
    "\n",
    "# Variable 3: highest_reps (Data Type: int)\n",
    "highest_reps = 25\n",
    "\n",
    "# Variable 4: membership_active (Data Type: bool)\n",
    "membership_active = True\n",
    "\n",
    "# Dictionary: workout_stats (Data Type: dict)\n",
    "# Keys: Friends' names, Values: Tuples (Yoga, Running, Weightlifting minutes)\n",
    "workout_stats = {\n",
    "    \"Alex\": (30, 45, 20),\n",
    "    \"Jamie\": (25, 50, 30),\n",
    "    \"Taylor\": (40, 35, 15)\n",
    "}\n",
    "\n",
    "# Calculate total workout minutes for each friend (Store separately to avoid mutation issues)\n",
    "total_minutes_dict = {friend + \"_Total\": sum(minutes) for friend, minutes in workout_stats.items()}\n",
    "\n",
    "# Merge the total minutes into workout_stats safely\n",
    "workout_stats.update(total_minutes_dict)\n",
    "\n",
    "# 2D List: workout_list (Extracts only workout minutes)\n",
    "workout_list = [list(minutes) for friend, minutes in workout_stats.items() if isinstance(minutes, tuple)]\n",
    "\n",
    "# Extract & Print Yoga + Running Minutes for All Friends\n",
    "yoga_running_minutes = [row[:2] for row in workout_list]  # First two columns (Yoga, Running)\n",
    "print(\"\\nYoga and Running Minutes for All Friends:\")\n",
    "print(yoga_running_minutes)\n",
    "\n",
    "# Extract & Print Weightlifting Minutes for the Last Two Friends\n",
    "weightlifting_minutes_last_two = [row[2] for row in workout_list[-2:]]  # Third column (Weightlifting)\n",
    "print(\"\\nWeightlifting Minutes for Last Two Friends:\")\n",
    "print(weightlifting_minutes_last_two)\n",
    "\n",
    "# Check & Print Friends Who Worked Out ≥ 120 Minutes\n",
    "for friend, total in total_minutes_dict.items():\n",
    "    if total >= 120:\n",
    "        print(f\"Great job staying active, {friend.replace('_Total', '')}!\")\n",
    "\n",
    "# User Input to Find a Friend's Workout Stats (Handles Case Sensitivity)\n",
    "friend_name = input(\"\\nEnter a friend's name: \").title()  # Converts input to title case\n",
    "\n",
    "if friend_name in workout_stats:\n",
    "    # Print workout details\n",
    "    print(f\"\\nWorkout Minutes for {friend_name}:\")\n",
    "    print(f\"Yoga: {workout_stats[friend_name][0]} minutes\")\n",
    "    print(f\"Running: {workout_stats[friend_name][1]} minutes\")\n",
    "    print(f\"Weightlifting: {workout_stats[friend_name][2]} minutes\")\n",
    "    print(f\"Total Workout Minutes: {workout_stats[f'{friend_name}_Total']} minutes\")\n",
    "else:\n",
    "    print(f\"\\nFriend {friend_name} not found in the records.\")\n",
    "\n",
    "# Find Friends with Highest & Lowest Total Workout Minutes\n",
    "max_friend = max(total_minutes_dict, key=total_minutes_dict.get).replace(\"_Total\", \"\")\n",
    "min_friend = min(total_minutes_dict, key=total_minutes_dict.get).replace(\"_Total\", \"\")\n",
    "max_total = total_minutes_dict[max_friend + \"_Total\"]\n",
    "min_total = total_minutes_dict[min_friend + \"_Total\"]\n",
    "\n",
    "# Print Results\n",
    "print(f\"\\nFriend with the highest total workout minutes: {max_friend} ({max_total} minutes)\")\n",
    "print(f\"Friend with the lowest total workout minutes: {min_friend} ({min_total} minutes)\")\n"
   ]
  }
 ],
 "metadata": {
  "kernelspec": {
   "display_name": "Python 3",
   "language": "python",
   "name": "python3"
  },
  "language_info": {
   "name": "python",
   "version": "3.13.1"
  }
 },
 "nbformat": 4,
 "nbformat_minor": 2
}
